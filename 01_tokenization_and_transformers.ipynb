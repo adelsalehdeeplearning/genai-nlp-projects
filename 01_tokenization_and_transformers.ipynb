{
 "cells": [
  {
   "cell_type": "code",
   "execution_count": null,
   "id": "17462cf3-c47a-4d52-bf62-be9c62779cfa",
   "metadata": {},
   "outputs": [],
   "source": [
    "#!pip install transformers --quiet\n",
    "\n",
    "from transformers import AutoTokenizer, AutoModel\n",
    "import torch\n"
   ]
  },
  {
   "cell_type": "code",
   "execution_count": null,
   "id": "a5305df0-cabe-428d-bacd-86213c8e7476",
   "metadata": {},
   "outputs": [],
   "source": [
    "tokenizer = AutoTokenizer.from_pretrained(\"bert-base-uncased\")\n",
    "\n",
    "text = \"Generative AI is transforming the future of software.\"\n",
    "tokens = tokenizer.tokenize(text)\n",
    "ids = tokenizer.convert_tokens_to_ids(tokens)\n",
    "\n",
    "print(\"Original Text:\", text)\n",
    "print(\"Tokens:\", tokens)\n",
    "print(\"Token IDs:\", ids)\n"
   ]
  },
  {
   "cell_type": "code",
   "execution_count": null,
   "id": "4cc4f018-9a13-41e8-8709-52fc894b2642",
   "metadata": {},
   "outputs": [],
   "source": [
    "inputs = tokenizer(text, return_tensors=\"pt\")\n",
    "print(\"Input Tensors:\", inputs)\n"
   ]
  },
  {
   "cell_type": "code",
   "execution_count": null,
   "id": "1f72a564-71d2-4f06-a1a3-582766156506",
   "metadata": {},
   "outputs": [],
   "source": [
    "model = AutoModel.from_pretrained(\"bert-base-uncased\")\n",
    "with torch.no_grad():\n",
    "    outputs = model(**inputs)\n",
    "\n",
    "print(\"Last hidden state shape:\", outputs.last_hidden_state.shape)\n"
   ]
  },
  {
   "cell_type": "markdown",
   "id": "9053d02e-d939-465f-aaa3-18163de0e7fc",
   "metadata": {},
   "source": [
    "We successfully tokenized input text and passed it through a pretrained BERT model to get embeddings.\n",
    "In the next notebook, we'll explore zero-shot classification and NER.\n"
   ]
  },
  {
   "cell_type": "code",
   "execution_count": null,
   "id": "d73c633b-5a74-43e1-b13c-6596601618ab",
   "metadata": {},
   "outputs": [],
   "source": []
  }
 ],
 "metadata": {
  "kernelspec": {
   "display_name": "Python 3 (ipykernel)",
   "language": "python",
   "name": "python3"
  },
  "language_info": {
   "codemirror_mode": {
    "name": "ipython",
    "version": 3
   },
   "file_extension": ".py",
   "mimetype": "text/x-python",
   "name": "python",
   "nbconvert_exporter": "python",
   "pygments_lexer": "ipython3",
   "version": "3.10.16"
  }
 },
 "nbformat": 4,
 "nbformat_minor": 5
}
