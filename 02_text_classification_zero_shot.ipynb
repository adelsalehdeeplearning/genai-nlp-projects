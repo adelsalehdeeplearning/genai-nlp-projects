{
 "cells": [
  {
   "cell_type": "markdown",
   "id": "1aac5cf1",
   "metadata": {},
   "source": [
    "# Zero-Shot Text Classification with Transformers\n",
    "In this notebook, we classify text into arbitrary labels without training a model using Hugging Face's `pipeline` and `facebook/bart-large-mnli`."
   ]
  },
  {
   "cell_type": "markdown",
   "id": "1d4c73d4",
   "metadata": {},
   "source": [
    "## Install Transformers"
   ]
  },
  {
   "cell_type": "code",
   "execution_count": null,
   "id": "6db77c1e",
   "metadata": {},
   "outputs": [],
   "source": [
    "!pip install transformers --quiet"
   ]
  },
  {
   "cell_type": "markdown",
   "id": "b28f9fa2",
   "metadata": {},
   "source": [
    "## Import Required Modules"
   ]
  },
  {
   "cell_type": "code",
   "execution_count": null,
   "id": "79e4e341",
   "metadata": {},
   "outputs": [],
   "source": [
    "from transformers import pipeline\n",
    "\n",
    "# Load zero-shot classification pipeline\n",
    "classifier = pipeline(\"zero-shot-classification\", model=\"facebook/bart-large-mnli\")"
   ]
  },
  {
   "cell_type": "markdown",
   "id": "3e830cbf",
   "metadata": {},
   "source": [
    "## Example 1: Classify a Sentence"
   ]
  },
  {
   "cell_type": "code",
   "execution_count": null,
   "id": "736d98b1",
   "metadata": {},
   "outputs": [],
   "source": [
    "sequence = \"I love solving machine learning problems with Python.\"\n",
    "candidate_labels = [\"sports\", \"tech\", \"politics\", \"cooking\"]\n",
    "\n",
    "result = classifier(sequence, candidate_labels)\n",
    "print(result)"
   ]
  },
  {
   "cell_type": "markdown",
   "id": "3bce4851",
   "metadata": {},
   "source": [
    "## Example 2: Multi-Label Classification"
   ]
  },
  {
   "cell_type": "code",
   "execution_count": null,
   "id": "cbbcae7d",
   "metadata": {},
   "outputs": [],
   "source": [
    "sequence = \"This dish is made with fresh basil and tomatoes.\"\n",
    "candidate_labels = [\"cooking\", \"gardening\", \"travel\"]\n",
    "\n",
    "result = classifier(sequence, candidate_labels, multi_label=True)\n",
    "print(result)"
   ]
  },
  {
   "cell_type": "markdown",
   "id": "743bc3f0",
   "metadata": {},
   "source": [
    "## Example 3: Classify Custom Inputs"
   ]
  },
  {
   "cell_type": "code",
   "execution_count": null,
   "id": "bc06d92b",
   "metadata": {},
   "outputs": [],
   "source": [
    "texts = [\n",
    "    \"OpenAI is leading the AI research frontier.\",\n",
    "    \"The Lakers won the basketball game last night.\",\n",
    "    \"The new iPhone has been released with exciting features.\"\n",
    "]\n",
    "labels = [\"sports\", \"technology\", \"finance\", \"research\"]\n",
    "\n",
    "for text in texts:\n",
    "    print(f\"\\nText: {text}\")\n",
    "    output = classifier(text, labels)\n",
    "    print(\"Top label:\", output['labels'][0], \"| Score:\", output['scores'][0])"
   ]
  },
  {
   "cell_type": "markdown",
   "id": "6e244d44",
   "metadata": {},
   "source": [
    "## Summary\n",
    "- Zero-shot classification lets you categorize text without any training.\n",
    "- You define the candidate labels at runtime.\n",
    "- `facebook/bart-large-mnli` maps input to the closest label based on natural language inference."
   ]
  }
 ],
 "metadata": {
  "kernelspec": {
   "display_name": "Python 3 (ipykernel)",
   "language": "python",
   "name": "python3"
  },
  "language_info": {
   "codemirror_mode": {
    "name": "ipython",
    "version": 3
   },
   "file_extension": ".py",
   "mimetype": "text/x-python",
   "name": "python",
   "nbconvert_exporter": "python",
   "pygments_lexer": "ipython3",
   "version": "3.10.16"
  }
 },
 "nbformat": 4,
 "nbformat_minor": 5
}
