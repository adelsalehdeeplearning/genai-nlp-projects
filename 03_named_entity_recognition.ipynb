{
 "cells": [
  {
   "cell_type": "markdown",
   "id": "325e1c22",
   "metadata": {},
   "source": [
    "# Named Entity Recognition (NER) with Transformers\n",
    "This notebook demonstrates how to extract entities like names, organizations, dates, and locations from text using Hugging Face's pretrained NER models."
   ]
  },
  {
   "cell_type": "markdown",
   "id": "7a9b94b9",
   "metadata": {},
   "source": [
    "## Install Transformers"
   ]
  },
  {
   "cell_type": "code",
   "execution_count": null,
   "id": "0567191e",
   "metadata": {},
   "outputs": [],
   "source": [
    "!pip install transformers --quiet"
   ]
  },
  {
   "cell_type": "markdown",
   "id": "eac8e4b6",
   "metadata": {},
   "source": [
    "## Import Required Modules"
   ]
  },
  {
   "cell_type": "code",
   "execution_count": null,
   "id": "d976f836",
   "metadata": {},
   "outputs": [],
   "source": [
    "from transformers import pipeline\n",
    "\n",
    "# Use an open-access NER model\n",
    "ner = pipeline(\"ner\", model=\"dslim/bert-base-NER\", aggregation_strategy=\"simple\")\n"
   ]
  },
  {
   "cell_type": "markdown",
   "id": "f39ed7b1",
   "metadata": {},
   "source": [
    "## Example 1: Basic Sentence"
   ]
  },
  {
   "cell_type": "code",
   "execution_count": null,
   "id": "424b8109",
   "metadata": {},
   "outputs": [],
   "source": [
    "text = \"Barack Obama was born in Hawaii and served as the President of the United States.\"\n",
    "entities = ner(text)\n",
    "for entity in entities:\n",
    "    print(entity)"
   ]
  },
  {
   "cell_type": "markdown",
   "id": "7ac0b0bd",
   "metadata": {},
   "source": [
    "## Example 2: Multi-Sentence Input"
   ]
  },
  {
   "cell_type": "code",
   "execution_count": null,
   "id": "676b3075",
   "metadata": {},
   "outputs": [],
   "source": [
    "text = (\n",
    "    \"Apple Inc. is headquartered in Cupertino. Tim Cook is the CEO.\"\n",
    "    \" The iPhone 15 is expected to launch in September 2025.\"\n",
    ")\n",
    "entities = ner(text)\n",
    "for entity in entities:\n",
    "    print(entity)"
   ]
  },
  {
   "cell_type": "markdown",
   "id": "8e8c2159",
   "metadata": {},
   "source": [
    "## Example 3: Custom Texts"
   ]
  },
  {
   "cell_type": "code",
   "execution_count": null,
   "id": "3c4aca1b",
   "metadata": {},
   "outputs": [],
   "source": [
    "custom_texts = [\n",
    "    \"Elon Musk founded SpaceX and Tesla.\",\n",
    "    \"The FIFA World Cup will be hosted in Canada, Mexico, and the USA in 2026.\",\n",
    "    \"Microsoft acquired GitHub in 2018.\"\n",
    "]\n",
    "\n",
    "for text in custom_texts:\n",
    "    print(f\"\\nText: {text}\")\n",
    "    entities = ner(text)\n",
    "    for e in entities:\n",
    "        print(e)"
   ]
  },
  {
   "cell_type": "markdown",
   "id": "9915eb74",
   "metadata": {},
   "source": [
    "## Summary\n",
    "- NER extracts structured information from unstructured text.\n",
    "- Pretrained models like `dbmdz/bert-large-cased-finetuned-conll03` handle common entity types (PER, ORG, LOC, MISC).\n",
    "- The `aggregation_strategy=\"simple\"` groups subword predictions into full entities."
   ]
  },
  {
   "cell_type": "code",
   "execution_count": null,
   "id": "dc80ce28-0e3c-41b6-bdbe-6b6c2b34a9ca",
   "metadata": {},
   "outputs": [],
   "source": []
  }
 ],
 "metadata": {
  "kernelspec": {
   "display_name": "Python 3 (ipykernel)",
   "language": "python",
   "name": "python3"
  },
  "language_info": {
   "codemirror_mode": {
    "name": "ipython",
    "version": 3
   },
   "file_extension": ".py",
   "mimetype": "text/x-python",
   "name": "python",
   "nbconvert_exporter": "python",
   "pygments_lexer": "ipython3",
   "version": "3.10.16"
  }
 },
 "nbformat": 4,
 "nbformat_minor": 5
}
