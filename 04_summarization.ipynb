{
 "cells": [
  {
   "cell_type": "markdown",
   "id": "8be76275",
   "metadata": {},
   "source": [
    "# Text Summarization with Transformers\n",
    "This notebook demonstrates how to generate summaries of long texts using Hugging Face Transformers."
   ]
  },
  {
   "cell_type": "markdown",
   "id": "fbbf2a6b",
   "metadata": {},
   "source": [
    "## Install Transformers"
   ]
  },
  {
   "cell_type": "code",
   "execution_count": null,
   "id": "ff24df77",
   "metadata": {},
   "outputs": [],
   "source": [
    "!pip install transformers --quiet"
   ]
  },
  {
   "cell_type": "markdown",
   "id": "f1af6e6e",
   "metadata": {},
   "source": [
    "## Import Required Modules"
   ]
  },
  {
   "cell_type": "code",
   "execution_count": null,
   "id": "ecccc446",
   "metadata": {},
   "outputs": [],
   "source": [
    "from transformers import pipeline\n",
    "\n",
    "# Load summarization pipeline\n",
    "summarizer = pipeline(\"summarization\", model=\"facebook/bart-large-cnn\")"
   ]
  },
  {
   "cell_type": "markdown",
   "id": "1f6dcbc5",
   "metadata": {},
   "source": [
    "## Example 1: Summarize a News Article"
   ]
  },
  {
   "cell_type": "code",
   "execution_count": null,
   "id": "8b0415f8",
   "metadata": {},
   "outputs": [],
   "source": [
    "article = (\n",
    "    \"The quick brown fox jumps over the lazy dog. This classic sentence is often used to demonstrate fonts \"\n",
    "    \"and keyboard layouts because it contains every letter of the alphabet. It has become a beloved example \"\n",
    "    \"of pangrams used in the English language.\"\n",
    ")\n",
    "summary = summarizer(article, max_length=50, min_length=20, do_sample=False)\n",
    "print(\"Summary:\", summary[0]['summary_text'])"
   ]
  },
  {
   "cell_type": "markdown",
   "id": "3f7f7041",
   "metadata": {},
   "source": [
    "## Example 2: Summarize a Long Document"
   ]
  },
  {
   "cell_type": "code",
   "execution_count": null,
   "id": "c1567f49",
   "metadata": {},
   "outputs": [],
   "source": [
    "long_text = (\n",
    "    \"Machine learning is a subset of artificial intelligence (AI) that focuses on the development of algorithms \"\n",
    "    \"that allow computers to learn from and make decisions based on data. It has applications in various domains, \"\n",
    "    \"including healthcare, finance, marketing, and autonomous systems. Supervised learning, unsupervised learning, \"\n",
    "    \"and reinforcement learning are three major types of machine learning. These techniques have enabled computers \"\n",
    "    \"to outperform humans in specific tasks such as image recognition and natural language understanding.\"\n",
    ")\n",
    "summary = summarizer(long_text, max_length=60, min_length=30, do_sample=False)\n",
    "print(\"Summary:\", summary[0]['summary_text'])"
   ]
  },
  {
   "cell_type": "markdown",
   "id": "832a320c",
   "metadata": {},
   "source": [
    "## Example 3: Summarize Multiple Inputs"
   ]
  },
  {
   "cell_type": "code",
   "execution_count": null,
   "id": "f10b69c8",
   "metadata": {},
   "outputs": [],
   "source": [
    "texts = [\n",
    "    \"Artificial intelligence is transforming the world by enabling machines to learn from data.\",\n",
    "    \"Climate change is one of the most pressing issues facing humanity today.\",\n",
    "    \"The global economy is shifting toward digital currencies and decentralized finance.\"\n",
    "]\n",
    "for text in texts:\n",
    "    summary = summarizer(text, max_length=40, min_length=15, do_sample=False)\n",
    "    print(f\"\\nOriginal: {text}\\nSummary: {summary[0]['summary_text']}\")"
   ]
  },
  {
   "cell_type": "markdown",
   "id": "0c3f79fc",
   "metadata": {},
   "source": [
    "## Summary\n",
    "- Text summarization transforms long documents into concise summaries.\n",
    "- Pretrained models like `facebook/bart-large-cnn` work well on general text.\n",
    "- Control the summary length with `min_length` and `max_length`.\n",
    "- This is a great building block for chatbots, assistants, and document analysis."
   ]
  }
 ],
 "metadata": {
  "kernelspec": {
   "display_name": "Python 3 (ipykernel)",
   "language": "python",
   "name": "python3"
  },
  "language_info": {
   "codemirror_mode": {
    "name": "ipython",
    "version": 3
   },
   "file_extension": ".py",
   "mimetype": "text/x-python",
   "name": "python",
   "nbconvert_exporter": "python",
   "pygments_lexer": "ipython3",
   "version": "3.10.16"
  }
 },
 "nbformat": 4,
 "nbformat_minor": 5
}
