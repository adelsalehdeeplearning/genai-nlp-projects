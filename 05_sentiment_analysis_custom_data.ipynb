{
 "cells": [
  {
   "cell_type": "markdown",
   "id": "9b3916da",
   "metadata": {},
   "source": [
    "# Sentiment Analysis with Transformers (Custom Data)\n",
    "This notebook demonstrates how to perform sentiment analysis on custom input data using a pretrained model from Hugging Face."
   ]
  },
  {
   "cell_type": "markdown",
   "id": "3790523f",
   "metadata": {},
   "source": [
    "## Install Transformers"
   ]
  },
  {
   "cell_type": "code",
   "execution_count": null,
   "id": "707690c5",
   "metadata": {},
   "outputs": [],
   "source": [
    "!pip install transformers --quiet"
   ]
  },
  {
   "cell_type": "markdown",
   "id": "6f875cf1",
   "metadata": {},
   "source": [
    "## Import Required Modules"
   ]
  },
  {
   "cell_type": "code",
   "execution_count": null,
   "id": "7ab668be",
   "metadata": {},
   "outputs": [],
   "source": [
    "from transformers import pipeline\n",
    "\n",
    "# Load sentiment-analysis pipeline\n",
    "sentiment_analyzer = pipeline(\"sentiment-analysis\")"
   ]
  },
  {
   "cell_type": "markdown",
   "id": "e5417f92",
   "metadata": {},
   "source": [
    "## Example 1: Single Sentence"
   ]
  },
  {
   "cell_type": "code",
   "execution_count": null,
   "id": "d0b2fe0f",
   "metadata": {},
   "outputs": [],
   "source": [
    "text = \"I absolutely loved the new Batman movie!\"\n",
    "result = sentiment_analyzer(text)\n",
    "print(f\"Sentiment: {result[0]['label']}, Score: {result[0]['score']:.4f}\")"
   ]
  },
  {
   "cell_type": "markdown",
   "id": "fe225caa",
   "metadata": {},
   "source": [
    "## Example 2: Analyze Custom List of Reviews"
   ]
  },
  {
   "cell_type": "code",
   "execution_count": null,
   "id": "9689d316",
   "metadata": {},
   "outputs": [],
   "source": [
    "reviews = [\n",
    "    \"The product was excellent and exceeded my expectations.\",\n",
    "    \"Worst customer service experience I've ever had.\",\n",
    "    \"Pretty decent quality for the price.\",\n",
    "    \"I'm not happy with the purchase. Wouldn't recommend.\",\n",
    "    \"Fast shipping and great packaging!\"\n",
    "]\n",
    "\n",
    "results = sentiment_analyzer(reviews)\n",
    "for review, result in zip(reviews, results):\n",
    "    print(f\"\\nReview: {review}\\nSentiment: {result['label']}, Score: {result['score']:.4f}\")"
   ]
  },
  {
   "cell_type": "markdown",
   "id": "7a57b64f",
   "metadata": {},
   "source": [
    "## Example 3: Apply to Your Own Input"
   ]
  },
  {
   "cell_type": "code",
   "execution_count": null,
   "id": "5e7bae1c",
   "metadata": {},
   "outputs": [],
   "source": [
    "custom_input = input(\"Enter a sentence to analyze: \")\n",
    "result = sentiment_analyzer(custom_input)\n",
    "print(f\"Sentiment: {result[0]['label']}, Score: {result[0]['score']:.4f}\")"
   ]
  },
  {
   "cell_type": "markdown",
   "id": "5ea8c56f",
   "metadata": {},
   "source": [
    "## Summary\n",
    "- Sentiment analysis classifies text as positive or negative (sometimes neutral).\n",
    "- The pipeline uses a pretrained model like `distilbert-base-uncased-finetuned-sst-2-english`.\n",
    "- You can batch process reviews, comments, or social media posts easily."
   ]
  }
 ],
 "metadata": {
  "kernelspec": {
   "display_name": "Python 3 (ipykernel)",
   "language": "python",
   "name": "python3"
  },
  "language_info": {
   "codemirror_mode": {
    "name": "ipython",
    "version": 3
   },
   "file_extension": ".py",
   "mimetype": "text/x-python",
   "name": "python",
   "nbconvert_exporter": "python",
   "pygments_lexer": "ipython3",
   "version": "3.10.16"
  }
 },
 "nbformat": 4,
 "nbformat_minor": 5
}
