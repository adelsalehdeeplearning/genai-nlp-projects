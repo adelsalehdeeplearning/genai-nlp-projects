{
 "cells": [
  {
   "cell_type": "markdown",
   "id": "21804cf9",
   "metadata": {},
   "source": [
    "# Fine-Tune a Text Classifier with Custom CSV Data\n",
    "This notebook shows how to train a text classifier using a custom dataset in CSV format. Assumes your CSV files contain two columns: `txt` and `sentiment`."
   ]
  },
  {
   "cell_type": "markdown",
   "id": "308f3d74",
   "metadata": {},
   "source": [
    "## Install Required Libraries"
   ]
  },
  {
   "cell_type": "code",
   "execution_count": null,
   "id": "3199b918",
   "metadata": {},
   "outputs": [],
   "source": [
    "!pip install transformers datasets scikit-learn --quiet"
   ]
  },
  {
   "cell_type": "markdown",
   "id": "d9b50de7",
   "metadata": {},
   "source": [
    "## Load and Explore Custom CSV Data"
   ]
  },
  {
   "cell_type": "code",
   "execution_count": null,
   "id": "c9726e4b",
   "metadata": {},
   "outputs": [],
   "source": [
    "from datasets import load_dataset\n",
    "\n",
    "data_files = {\n",
    "    \"train\": \"train.csv\",\n",
    "    \"validation\": \"val.csv\",\n",
    "    \"test\": \"test.csv\"\n",
    "}\n",
    "dataset = load_dataset(\"csv\", data_files=data_files)\n",
    "\n",
    "# Rename column for consistency\n",
    "dataset = dataset.rename_column(\"txt\", \"text\")\n",
    "\n",
    "# Preview an example\n",
    "print(dataset[\"train\"][0])"
   ]
  },
  {
   "cell_type": "markdown",
   "id": "53fe1236",
   "metadata": {},
   "source": [
    "## Tokenize the Dataset"
   ]
  },
  {
   "cell_type": "code",
   "execution_count": null,
   "id": "c23d861e",
   "metadata": {},
   "outputs": [],
   "source": [
    "from transformers import AutoTokenizer\n",
    "\n",
    "tokenizer = AutoTokenizer.from_pretrained(\"distilbert-base-uncased\")\n",
    "\n",
    "def tokenize(example):\n",
    "    return tokenizer(example[\"text\"], padding=\"max_length\", truncation=True)\n",
    "\n",
    "tokenized_dataset = dataset.map(tokenize, batched=True)"
   ]
  },
  {
   "cell_type": "markdown",
   "id": "93b86836",
   "metadata": {},
   "source": [
    "## Load Pretrained Model"
   ]
  },
  {
   "cell_type": "code",
   "execution_count": null,
   "id": "d4013d35",
   "metadata": {},
   "outputs": [],
   "source": [
    "from transformers import AutoModelForSequenceClassification\n",
    "\n",
    "model = AutoModelForSequenceClassification.from_pretrained(\"distilbert-base-uncased\", num_labels=2)"
   ]
  },
  {
   "cell_type": "markdown",
   "id": "b20f46a9",
   "metadata": {},
   "source": [
    "## Define Evaluation Metrics"
   ]
  },
  {
   "cell_type": "code",
   "execution_count": null,
   "id": "4ca85e3d",
   "metadata": {},
   "outputs": [],
   "source": [
    "import numpy as np\n",
    "from sklearn.metrics import accuracy_score, f1_score\n",
    "\n",
    "def compute_metrics(eval_pred):\n",
    "    logits, labels = eval_pred\n",
    "    predictions = np.argmax(logits, axis=1)\n",
    "    return {\n",
    "        \"accuracy\": accuracy_score(labels, predictions),\n",
    "        \"f1\": f1_score(labels, predictions)\n",
    "    }"
   ]
  },
  {
   "cell_type": "markdown",
   "id": "51b28822",
   "metadata": {},
   "source": [
    "## Training Arguments and Trainer Setup"
   ]
  },
  {
   "cell_type": "code",
   "execution_count": null,
   "id": "1593fd1c",
   "metadata": {},
   "outputs": [],
   "source": [
    "from transformers import TrainingArguments, Trainer\n",
    "\n",
    "training_args = TrainingArguments(\n",
    "    output_dir=\"./results\",\n",
    "    evaluation_strategy=\"epoch\",\n",
    "    per_device_train_batch_size=8,\n",
    "    per_device_eval_batch_size=8,\n",
    "    num_train_epochs=3,\n",
    "    logging_dir=\"./logs\",\n",
    "    logging_steps=10,\n",
    "    load_best_model_at_end=True,\n",
    "    save_strategy=\"epoch\"\n",
    ")\n",
    "\n",
    "trainer = Trainer(\n",
    "    model=model,\n",
    "    args=training_args,\n",
    "    train_dataset=tokenized_dataset[\"train\"],\n",
    "    eval_dataset=tokenized_dataset[\"validation\"],\n",
    "    compute_metrics=compute_metrics\n",
    ")"
   ]
  },
  {
   "cell_type": "markdown",
   "id": "13e629a7",
   "metadata": {},
   "source": [
    "## Train the Model"
   ]
  },
  {
   "cell_type": "code",
   "execution_count": null,
   "id": "42026655",
   "metadata": {},
   "outputs": [],
   "source": [
    "trainer.train()"
   ]
  },
  {
   "cell_type": "markdown",
   "id": "8e7e7edf",
   "metadata": {},
   "source": [
    "## Evaluate on Test Set"
   ]
  },
  {
   "cell_type": "code",
   "execution_count": null,
   "id": "39aea397",
   "metadata": {},
   "outputs": [],
   "source": [
    "trainer.evaluate(tokenized_dataset[\"test\"])"
   ]
  },
  {
   "cell_type": "markdown",
   "id": "5cef6044",
   "metadata": {},
   "source": [
    "## Save the Fine-Tuned Model"
   ]
  },
  {
   "cell_type": "code",
   "execution_count": null,
   "id": "cb12591a",
   "metadata": {},
   "outputs": [],
   "source": [
    "model.save_pretrained(\"./custom-sentiment-model\")\n",
    "tokenizer.save_pretrained(\"./custom-sentiment-model\")"
   ]
  },
  {
   "cell_type": "markdown",
   "id": "c80f9c67",
   "metadata": {},
   "source": [
    "## Summary\n",
    "- Loaded a custom dataset from CSV files\n",
    "- Fine-tuned DistilBERT for binary sentiment classification\n",
    "- Evaluated on a separate test set\n",
    "- Saved the fine-tuned model for reuse or deployment"
   ]
  },
  {
   "cell_type": "code",
   "execution_count": null,
   "id": "cc890e57-70d9-4c6c-a157-4a43faec51a5",
   "metadata": {},
   "outputs": [],
   "source": [
    "# from datasets import load_dataset\n",
    "# import pandas as pd\n",
    "\n",
    "# # Load the XSum dataset\n",
    "# xsum = load_dataset(\"xsum\")\n",
    "\n",
    "# # Extract and convert to DataFrames\n",
    "# train_df = pd.DataFrame({\n",
    "#     \"text\": xsum[\"train\"][\"document\"],\n",
    "#     \"summary\": xsum[\"train\"][\"summary\"]\n",
    "# })\n",
    "\n",
    "# val_df = pd.DataFrame({\n",
    "#     \"text\": xsum[\"validation\"][\"document\"],\n",
    "#     \"summary\": xsum[\"validation\"][\"summary\"]\n",
    "# })\n",
    "\n",
    "# test_df = pd.DataFrame({\n",
    "#     \"text\": xsum[\"test\"][\"document\"],\n",
    "#     \"summary\": xsum[\"test\"][\"summary\"]\n",
    "# })\n",
    "\n",
    "# # Save all as TSV\n",
    "# train_df.to_csv(\"xsum_train.tsv\", sep=\"\\t\", index=False)\n",
    "# val_df.to_csv(\"xsum_val.tsv\", sep=\"\\t\", index=False)\n",
    "# test_df.to_csv(\"xsum_test.tsv\", sep=\"\\t\", index=False)\n",
    "\n",
    "# print(\"✅ Saved: xsum_train.tsv, xsum_val.tsv, xsum_test.tsv\")\n"
   ]
  },
  {
   "cell_type": "code",
   "execution_count": null,
   "id": "d51ac779-48a1-4400-86a0-c583d4b91fda",
   "metadata": {},
   "outputs": [],
   "source": []
  }
 ],
 "metadata": {
  "kernelspec": {
   "display_name": "Python 3 (ipykernel)",
   "language": "python",
   "name": "python3"
  },
  "language_info": {
   "codemirror_mode": {
    "name": "ipython",
    "version": 3
   },
   "file_extension": ".py",
   "mimetype": "text/x-python",
   "name": "python",
   "nbconvert_exporter": "python",
   "pygments_lexer": "ipython3",
   "version": "3.10.16"
  }
 },
 "nbformat": 4,
 "nbformat_minor": 5
}
