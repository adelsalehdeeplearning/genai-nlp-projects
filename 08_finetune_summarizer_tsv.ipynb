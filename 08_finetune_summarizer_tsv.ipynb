{
 "cells": [
  {
   "cell_type": "markdown",
   "id": "53d6130e",
   "metadata": {},
   "source": [
    "# Fine-Tune a Summarization Model with Custom TSV Data + Training Curves\n",
    "This notebook trains a text summarizer using custom TSV files (xsum-style format) and visualizes training metrics."
   ]
  },
  {
   "cell_type": "markdown",
   "id": "b874045e",
   "metadata": {},
   "source": [
    "## Install Required Libraries"
   ]
  },
  {
   "cell_type": "code",
   "execution_count": null,
   "id": "a9b9ca5f",
   "metadata": {},
   "outputs": [],
   "source": [
    "#!pip install transformers datasets scikit-learn matplotlib pandas --quiet"
   ]
  },
  {
   "cell_type": "code",
   "execution_count": null,
   "id": "9e2fbf3e-b3ae-458e-9a8d-f7bb174bed69",
   "metadata": {},
   "outputs": [],
   "source": []
  },
  {
   "cell_type": "markdown",
   "id": "12896aed",
   "metadata": {},
   "source": [
    "## Load and Explore Custom TSV Data"
   ]
  },
  {
   "cell_type": "code",
   "execution_count": null,
   "id": "1dd4ee45-642d-4d41-ad76-9694e893ada8",
   "metadata": {},
   "outputs": [],
   "source": [
    "# import pandas as pd\n",
    "\n",
    "# tr = pd.read_csv(\"xsum_train.tsv\", sep=\"\\t\", encoding='utf-8')\n",
    "# ts = pd.read_csv(\"xsum_test.tsv\", sep=\"\\t\", encoding='utf-8')\n",
    "# vl = pd.read_csv(\"xsum_val.tsv\", sep=\"\\t\", encoding='utf-8')\n",
    "\n",
    "# print(tr.shape,ts.shape,vl.shape)\n",
    "\n",
    "# #################################\n",
    "# import pandas as pd\n",
    "\n",
    "\n",
    "# # Sample the data\n",
    "# tr_sample = tr.sample(n=10000, random_state=42)\n",
    "# ts_sample = ts.sample(n=1000, random_state=42)\n",
    "# vl_sample = vl.sample(n=1000, random_state=42)\n",
    "\n",
    "# # Save the samples to TSV files\n",
    "# tr_sample_path = \"xsum_train.tsv\"\n",
    "# ts_sample_path = \"xsum_test.tsv\"\n",
    "# vl_sample_path = \"xsum_val.tsv\"\n",
    "\n",
    "# tr_sample.to_csv(tr_sample_path, sep=\"\\t\", index=False)\n",
    "# ts_sample.to_csv(ts_sample_path, sep=\"\\t\", index=False)\n",
    "# vl_sample.to_csv(vl_sample_path, sep=\"\\t\", index=False)\n",
    "\n",
    "# (tr_sample_path, ts_sample_path, vl_sample_path)\n",
    "\n"
   ]
  },
  {
   "cell_type": "code",
   "execution_count": null,
   "id": "35d58c56",
   "metadata": {},
   "outputs": [],
   "source": [
    "from datasets import load_dataset\n",
    "\n",
    "data_files = {\n",
    "    \"train\": \"xsum_train.tsv\",\n",
    "    \"validation\": \"xsum_val.tsv\",\n",
    "    \"test\": \"xsum_val.tsv\"\n",
    "}\n",
    "dataset = load_dataset(\"csv\", data_files=data_files, delimiter=\"\\t\")\n",
    "print(dataset[\"train\"][0])"
   ]
  },
  {
   "cell_type": "markdown",
   "id": "64448b05",
   "metadata": {},
   "source": [
    "## Tokenize the Dataset for Summarization"
   ]
  },
  {
   "cell_type": "code",
   "execution_count": null,
   "id": "dff4649a",
   "metadata": {},
   "outputs": [],
   "source": [
    "from transformers import AutoTokenizer\n",
    "\n",
    "model_checkpoint = \"facebook/bart-large-cnn\"\n",
    "tokenizer = AutoTokenizer.from_pretrained(model_checkpoint)\n",
    "\n",
    "max_input_length = 512\n",
    "max_target_length = 64\n",
    "\n",
    "\n",
    "def preprocess_function(examples):\n",
    "    texts = [str(x) for x in examples[\"text\"]]\n",
    "    summaries = [str(x) for x in examples[\"summary\"]]\n",
    "\n",
    "    model_inputs = tokenizer(texts, max_length=max_input_length, truncation=True, padding=\"max_length\")\n",
    "\n",
    "    with tokenizer.as_target_tokenizer():\n",
    "        labels = tokenizer(summaries, max_length=max_target_length, truncation=True, padding=\"max_length\")\n",
    "\n",
    "    model_inputs[\"labels\"] = labels[\"input_ids\"]\n",
    "    return model_inputs\n",
    "\n",
    "\n",
    "tokenized_dataset = dataset.map(preprocess_function, batched=True)"
   ]
  },
  {
   "cell_type": "markdown",
   "id": "e24faea3",
   "metadata": {},
   "source": [
    "## Load the Pretrained Summarization Model"
   ]
  },
  {
   "cell_type": "code",
   "execution_count": null,
   "id": "94e0d621",
   "metadata": {},
   "outputs": [],
   "source": [
    "from transformers import AutoModelForSeq2SeqLM\n",
    "\n",
    "model = AutoModelForSeq2SeqLM.from_pretrained(model_checkpoint)"
   ]
  },
  {
   "cell_type": "code",
   "execution_count": null,
   "id": "ac231951-9038-4bfe-82dd-f573d89ec94b",
   "metadata": {},
   "outputs": [],
   "source": [
    "# !pip install evaluate\n",
    "# !pip install nltk rouge_score\n"
   ]
  },
  {
   "cell_type": "markdown",
   "id": "7cb9e520",
   "metadata": {},
   "source": [
    "## Define Evaluation Metrics (ROUGE)"
   ]
  },
  {
   "cell_type": "code",
   "execution_count": null,
   "id": "694ac9b0",
   "metadata": {},
   "outputs": [],
   "source": [
    "import evaluate\n",
    "rouge = evaluate.load(\"rouge\")\n",
    "\n",
    "def compute_metrics(eval_pred):\n",
    "    import numpy as np\n",
    "\n",
    "    predictions, labels = eval_pred\n",
    "    labels = np.where(labels != -100, labels, tokenizer.pad_token_id)\n",
    "\n",
    "    decoded_preds = tokenizer.batch_decode(predictions, skip_special_tokens=True)\n",
    "    decoded_labels = tokenizer.batch_decode(labels, skip_special_tokens=True)\n",
    "\n",
    "    decoded_preds = [\"\\n\".join(p.strip().split(\". \")) for p in decoded_preds]\n",
    "    decoded_labels = [\"\\n\".join(l.strip().split(\". \")) for l in decoded_labels]\n",
    "\n",
    "    result = rouge.compute(predictions=decoded_preds, references=decoded_labels, use_stemmer=True)\n",
    "\n",
    "    return {k: round(v * 100, 4) for k, v in result.items()}\n"
   ]
  },
  {
   "cell_type": "markdown",
   "id": "e86d2daf",
   "metadata": {},
   "source": [
    "## Set Training Arguments"
   ]
  },
  {
   "cell_type": "code",
   "execution_count": null,
   "id": "dd346fe0",
   "metadata": {},
   "outputs": [],
   "source": [
    "from transformers import TrainingArguments, Seq2SeqTrainer, GenerationConfig\n",
    "\n",
    "# Set generation config\n",
    "generation_config = GenerationConfig.from_pretrained(model_checkpoint)\n",
    "\n",
    "# ✅ Set batch size and fp16 in TrainingArguments\n",
    "training_args = TrainingArguments(\n",
    "    output_dir=\"./results\",\n",
    "    evaluation_strategy=\"epoch\",\n",
    "    save_strategy=\"epoch\",\n",
    "    num_train_epochs=2,\n",
    "    per_device_train_batch_size=1,  # 👈 set here\n",
    "    per_device_eval_batch_size=1,   # 👈 set here\n",
    "    logging_dir=\"./logs\",\n",
    "    logging_steps=10,\n",
    "    load_best_model_at_end=True,\n",
    "    report_to=\"none\",\n",
    "    fp16=True,  # 👈 enable if your GPU supports it\n",
    "    save_total_limit=1\n",
    "    \n",
    ")\n",
    "training_args.generation_num_beams=4\n",
    "training_args.generation_config = generation_config\n",
    "training_args.predict_with_generate=True"
   ]
  },
  {
   "cell_type": "markdown",
   "id": "1f40d690",
   "metadata": {},
   "source": [
    "## Initialize Trainer and Train the Model"
   ]
  },
  {
   "cell_type": "code",
   "execution_count": null,
   "id": "4b3244c7",
   "metadata": {},
   "outputs": [],
   "source": [
    "from transformers import TrainingArguments, Seq2SeqTrainer, GenerationConfig\n",
    "\n",
    "# Set generation config\n",
    "generation_config = GenerationConfig.from_pretrained(model_checkpoint)\n",
    "\n",
    "\n",
    "training_args.generation_config = generation_config\n",
    "training_args.generation_max_length=max_target_length\n",
    "\n",
    "\n",
    "trainer = Seq2SeqTrainer(\n",
    "    model=model,\n",
    "    args=training_args,\n",
    "    train_dataset=tokenized_dataset[\"train\"],\n",
    "    eval_dataset=tokenized_dataset[\"validation\"],\n",
    "    tokenizer=tokenizer,\n",
    "    compute_metrics=compute_metrics\n",
    ")\n",
    "\n",
    "trainer.train()\n"
   ]
  },
  {
   "cell_type": "markdown",
   "id": "2756e312",
   "metadata": {},
   "source": [
    "## Evaluate on the Test Set"
   ]
  },
  {
   "cell_type": "code",
   "execution_count": null,
   "id": "ecfcf7f9",
   "metadata": {},
   "outputs": [],
   "source": [
    "trainer.evaluate(tokenized_dataset[\"test\"])"
   ]
  },
  {
   "cell_type": "markdown",
   "id": "1582b26f",
   "metadata": {},
   "source": [
    "## Plot Training Loss and Evaluation Metrics"
   ]
  },
  {
   "cell_type": "code",
   "execution_count": null,
   "id": "0dbaba47-d2b7-4f3f-80d0-682d39c0cab2",
   "metadata": {},
   "outputs": [],
   "source": [
    "#!pip install matplotlib"
   ]
  },
  {
   "cell_type": "code",
   "execution_count": null,
   "id": "d1e39bb7",
   "metadata": {},
   "outputs": [],
   "source": [
    "import matplotlib.pyplot as plt\n",
    "import pandas as pd\n",
    "\n",
    "log_df = pd.DataFrame(trainer.state.log_history)\n",
    "\n",
    "# Training Loss\n",
    "plt.figure(figsize=(10, 4))\n",
    "plt.plot(log_df[\"step\"], log_df[\"loss\"], label=\"Training Loss\")\n",
    "plt.xlabel(\"Steps\")\n",
    "plt.ylabel(\"Loss\")\n",
    "plt.title(\"Training Loss Curve\")\n",
    "plt.legend()\n",
    "plt.grid(True)\n",
    "plt.show()\n",
    "\n",
    "# ROUGE Evaluation (if available)\n",
    "eval_df = log_df.dropna(subset=[\"eval_rouge1\"])\n",
    "if not eval_df.empty:\n",
    "    plt.figure(figsize=(10, 4))\n",
    "    plt.plot(eval_df[\"step\"], eval_df[\"eval_rouge1\"], label=\"ROUGE-1\")\n",
    "    plt.plot(eval_df[\"step\"], eval_df[\"eval_rouge2\"], label=\"ROUGE-2\")\n",
    "    plt.plot(eval_df[\"step\"], eval_df[\"eval_rougeL\"], label=\"ROUGE-L\")\n",
    "    plt.xlabel(\"Steps\")\n",
    "    plt.ylabel(\"ROUGE Score\")\n",
    "    plt.title(\"Evaluation Metrics\")\n",
    "    plt.legend()\n",
    "    plt.grid(True)\n",
    "    plt.show()"
   ]
  },
  {
   "cell_type": "markdown",
   "id": "57410f20",
   "metadata": {},
   "source": [
    "## Save the Fine-Tuned Model"
   ]
  },
  {
   "cell_type": "code",
   "execution_count": null,
   "id": "901af11c",
   "metadata": {},
   "outputs": [],
   "source": [
    "model.save_pretrained(\"./custom-summarizer\")\n",
    "tokenizer.save_pretrained(\"./custom-summarizer\")"
   ]
  },
  {
   "cell_type": "code",
   "execution_count": null,
   "id": "3719a4ff-7594-4d08-b5a0-67222a099445",
   "metadata": {},
   "outputs": [],
   "source": [
    "from transformers import AutoModelForSeq2SeqLM, AutoTokenizer\n",
    "\n",
    "# Load the fine-tuned model\n",
    "model = AutoModelForSeq2SeqLM.from_pretrained(\"./custom-summarizer\")\n",
    "tokenizer = AutoTokenizer.from_pretrained(\"./custom-summarizer\")\n",
    "\n",
    "# Your input text\n",
    "# text = \"\"\"The Transformer architecture has revolutionized NLP tasks. \n",
    "# It enabled the development of large language models such as BERT and GPT, \n",
    "# which have set state-of-the-art benchmarks in various applications.\"\"\"\n",
    "\n",
    "text=ts.iloc[0]['text']\n",
    "\n",
    "# Tokenize input\n",
    "inputs = tokenizer(text, return_tensors=\"pt\", max_length=512, truncation=True)\n",
    "\n",
    "# Generate summary\n",
    "summary_ids = model.generate(\n",
    "    inputs[\"input_ids\"],\n",
    "    max_length=64,\n",
    "    num_beams=4,\n",
    "    length_penalty=2.0,\n",
    "    early_stopping=True\n",
    ")\n",
    "\n",
    "# Decode and print the summary\n",
    "summary = tokenizer.decode(summary_ids[0], skip_special_tokens=True)\n",
    "print(\"📄 Summary:\", summary)\n"
   ]
  },
  {
   "cell_type": "code",
   "execution_count": null,
   "id": "9059480f-f6ba-4b3d-a722-cae7865111a2",
   "metadata": {},
   "outputs": [],
   "source": [
    "print(ts.iloc[0]['text'])\n",
    "print('*****************************')\n",
    "print(ts.iloc[0]['summary'])\n",
    "print('*****************************')"
   ]
  },
  {
   "cell_type": "markdown",
   "id": "1f23adbd",
   "metadata": {},
   "source": [
    "## Summary\n",
    "- Loaded custom TSV data for summarization\n",
    "- Fine-tuned BART on the dataset\n",
    "- Plotted training and evaluation curves\n",
    "- Saved the trained model for reuse or deployment"
   ]
  }
 ],
 "metadata": {
  "kernelspec": {
   "display_name": "Python 3 (ipykernel)",
   "language": "python",
   "name": "python3"
  },
  "language_info": {
   "codemirror_mode": {
    "name": "ipython",
    "version": 3
   },
   "file_extension": ".py",
   "mimetype": "text/x-python",
   "name": "python",
   "nbconvert_exporter": "python",
   "pygments_lexer": "ipython3",
   "version": "3.10.16"
  }
 },
 "nbformat": 4,
 "nbformat_minor": 5
}
